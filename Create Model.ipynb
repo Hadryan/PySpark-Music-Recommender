{
 "cells": [
  {
   "cell_type": "code",
   "execution_count": 1,
   "metadata": {},
   "outputs": [],
   "source": [
    "import numpy as np\n",
    "import pandas as pd\n",
    "import os\n",
    "import json\n",
    "import csv\n",
    "\n",
    "from pyspark import SparkContext\n",
    "from pyspark.sql import SparkSession\n",
    "import pyspark.sql.functions as F\n",
    "\n",
    "from pyspark.sql.functions import lit,concat,col\n",
    "from pyspark.ml.feature import StringIndexer\n",
    "from pyspark.sql.types import IntegerType\n",
    "from time import time\n",
    "\n",
    "from pyspark.mllib.recommendation import ALS, MatrixFactorizationModel, Rating\n",
    "\n",
    "n = 10000\n",
    "csv_name = 'spotify_dataset_top10000.csv'\n",
    "os.environ['JAVA_HOME'] = r\"C:\\Program Files\\Java\\jdk-15.0.1\" \n",
    "spark = SparkSession.builder.master('local[*]').appName(\"Recommender\").getOrCreate()\n"
   ]
  },
  {
   "cell_type": "code",
   "execution_count": 2,
   "metadata": {},
   "outputs": [],
   "source": [
    "df = spark.read.option(\"header\", \"true\").schema('playlist_id integer, track_id integer').csv(csv_name)\\\n",
    "    .na.drop().withColumn('count',lit(1))\n"
   ]
  },
  {
   "cell_type": "code",
   "execution_count": 3,
   "metadata": {},
   "outputs": [],
   "source": [
    "with open('meta.json', 'rb') as f:\n",
    "    meta = json.load(f)\n",
    "    num_playlists = meta['num_playlists']\n",
    "    num_tracks = meta['num_tracks']\n",
    "\n",
    "df_extra = spark.createDataFrame([((num_playlists+i),i,1) for i in range(num_tracks)],['playlist_id','track_id','count'])\n",
    "\n",
    "# Load and parse the data\n",
    "data = df.union(df_extra).rdd\n"
   ]
  },
  {
   "cell_type": "code",
   "execution_count": 22,
   "metadata": {},
   "outputs": [
    {
     "ename": "AttributeError",
     "evalue": "type object 'ALS' has no attribute 'implicttrain'",
     "output_type": "error",
     "traceback": [
      "\u001b[1;31m---------------------------------------------------------------------------\u001b[0m",
      "\u001b[1;31mAttributeError\u001b[0m                            Traceback (most recent call last)",
      "\u001b[1;32m<ipython-input-22-5035eb50f456>\u001b[0m in \u001b[0;36m<module>\u001b[1;34m\u001b[0m\n\u001b[0;32m      4\u001b[0m \u001b[0ml\u001b[0m \u001b[1;33m=\u001b[0m \u001b[1;36m0.005\u001b[0m\u001b[1;33m\u001b[0m\u001b[1;33m\u001b[0m\u001b[0m\n\u001b[0;32m      5\u001b[0m \u001b[0mstart\u001b[0m \u001b[1;33m=\u001b[0m \u001b[0mtime\u001b[0m\u001b[1;33m(\u001b[0m\u001b[1;33m)\u001b[0m\u001b[1;33m\u001b[0m\u001b[1;33m\u001b[0m\u001b[0m\n\u001b[1;32m----> 6\u001b[1;33m \u001b[0mmodel\u001b[0m \u001b[1;33m=\u001b[0m \u001b[0mALS\u001b[0m\u001b[1;33m.\u001b[0m\u001b[0mimplicttrain\u001b[0m\u001b[1;33m(\u001b[0m\u001b[0mdata\u001b[0m\u001b[1;33m,\u001b[0m \u001b[0mrank\u001b[0m\u001b[1;33m,\u001b[0m \u001b[0miterations\u001b[0m \u001b[1;33m=\u001b[0m \u001b[0mnumIterations\u001b[0m\u001b[1;33m,\u001b[0m \u001b[0mlambda_\u001b[0m \u001b[1;33m=\u001b[0m \u001b[0ml\u001b[0m\u001b[1;33m,\u001b[0m \u001b[0mnonnegative\u001b[0m \u001b[1;33m=\u001b[0m\u001b[1;32mTrue\u001b[0m\u001b[1;33m)\u001b[0m\u001b[1;33m\u001b[0m\u001b[1;33m\u001b[0m\u001b[0m\n\u001b[0m\u001b[0;32m      7\u001b[0m \u001b[1;33m\u001b[0m\u001b[0m\n\u001b[0;32m      8\u001b[0m \u001b[1;31m# # Evaluate the model on training data\u001b[0m\u001b[1;33m\u001b[0m\u001b[1;33m\u001b[0m\u001b[1;33m\u001b[0m\u001b[0m\n",
      "\u001b[1;31mAttributeError\u001b[0m: type object 'ALS' has no attribute 'implicttrain'"
     ]
    }
   ],
   "source": [
    "# FIND BEST PARAMETERS\n",
    "rank = 10\n",
    "numIterations = 10\n",
    "l = 0.005\n",
    "start = time()\n",
    "model = ALS.implicttrain(data, rank, iterations = numIterations, lambda_ = l, nonnegative =True)\n",
    "\n",
    "# # Evaluate the model on training data\n",
    "# testdata = data.map(lambda p: (p[0], p[1]))\n",
    "# predictions = model.predictAll(testdata).map(lambda r: ((r[0], r[1]), r[2]))\n",
    "# ratesAndPreds = data.map(lambda r: ((r[0], r[1]), r[2])).join(predictions)\n",
    "# MSE = ratesAndPreds.map(lambda r: (r[1][0] - r[1][1])**2).mean()\n",
    "# print(\"Mean Squared Error = \" + str(MSE) + ' rank: ' + str(rank) + ' iter: ' + str(numIterations) + ' lambda: ' + str(l))\n",
    "\n",
    "\n",
    "print(time() - start)\n"
   ]
  },
  {
   "cell_type": "code",
   "execution_count": null,
   "metadata": {},
   "outputs": [],
   "source": []
  },
  {
   "cell_type": "code",
   "execution_count": 23,
   "metadata": {},
   "outputs": [
    {
     "data": {
      "text/plain": [
       "10000"
      ]
     },
     "execution_count": 23,
     "metadata": {},
     "output_type": "execute_result"
    }
   ],
   "source": [
    "model.productFeatures().count()"
   ]
  },
  {
   "cell_type": "code",
   "execution_count": 24,
   "metadata": {},
   "outputs": [
    {
     "data": {
      "text/plain": [
       "94420"
      ]
     },
     "execution_count": 24,
     "metadata": {},
     "output_type": "execute_result"
    }
   ],
   "source": [
    "model.userFeatures().count()"
   ]
  },
  {
   "cell_type": "code",
   "execution_count": 25,
   "metadata": {},
   "outputs": [
    {
     "name": "stdout",
     "output_type": "stream",
     "text": [
      "27.513184309005737\n"
     ]
    }
   ],
   "source": [
    "start = time()\n",
    "rec = model.recommendProductsForUsers(5).collect()\n",
    "print(time() - start)"
   ]
  },
  {
   "cell_type": "code",
   "execution_count": 26,
   "metadata": {},
   "outputs": [],
   "source": [
    "rec = [[r[0],*[r[1][i][1] for i in range(5)]] for r in rec]\n",
    "pd_df = pd.DataFrame(rec)\n",
    "pd_df.index = pd_df.loc[:,0]\n",
    "pd_df = pd_df.sort_index()[-10000:] #num songs\n",
    "pd_df[0] = pd_df[0]-84420 #num playlists\n",
    "pd_df.index = pd_df.loc[:,0]\n",
    "\n",
    "with open('name_to_id.json', 'rb') as d:\n",
    "    name_to_id = json.load(d)\n",
    "    id_to_name = {v:k for k,v in name_to_id.items()}\n",
    "    \n",
    "pd_df = pd_df.applymap(lambda x: id_to_name[x])\n",
    "pd_df.columns = ['track','rec_1','rec_2','rec_3','rec_4','rec_5']\n",
    "pd_df.index.name = 'track_id'"
   ]
  },
  {
   "cell_type": "code",
   "execution_count": 27,
   "metadata": {},
   "outputs": [],
   "source": [
    "pd_df.to_csv('reccomendations.csv')"
   ]
  },
  {
   "cell_type": "code",
   "execution_count": 28,
   "metadata": {},
   "outputs": [],
   "source": [
    "import pandas as pd\n",
    "\n",
    "pd_df = pd.read_csv('reccomendations.csv')"
   ]
  },
  {
   "cell_type": "code",
   "execution_count": 29,
   "metadata": {},
   "outputs": [],
   "source": [
    "import sqlite3\n",
    "conn = sqlite3.connect('reccomendations.db')\n",
    "\n",
    "cursor = conn.cursor()\n",
    "cursor.execute(\"DROP TABLE top_five\")\n",
    "\n",
    "pd_df.to_sql('top_five',conn)\n",
    "\n",
    "# Save (commit) the changes\n",
    "conn.commit()\n",
    "\n",
    "# We can also close the connection if we are done with it.\n",
    "# Just be sure any changes have been committed or they will be lost.\n",
    "conn.close()\n"
   ]
  },
  {
   "cell_type": "code",
   "execution_count": 30,
   "metadata": {},
   "outputs": [
    {
     "data": {
      "text/html": [
       "<div>\n",
       "<style scoped>\n",
       "    .dataframe tbody tr th:only-of-type {\n",
       "        vertical-align: middle;\n",
       "    }\n",
       "\n",
       "    .dataframe tbody tr th {\n",
       "        vertical-align: top;\n",
       "    }\n",
       "\n",
       "    .dataframe thead th {\n",
       "        text-align: right;\n",
       "    }\n",
       "</style>\n",
       "<table border=\"1\" class=\"dataframe\">\n",
       "  <thead>\n",
       "    <tr style=\"text-align: right;\">\n",
       "      <th></th>\n",
       "      <th>track_id</th>\n",
       "      <th>track</th>\n",
       "      <th>rec_1</th>\n",
       "      <th>rec_2</th>\n",
       "      <th>rec_3</th>\n",
       "      <th>rec_4</th>\n",
       "      <th>rec_5</th>\n",
       "    </tr>\n",
       "  </thead>\n",
       "  <tbody>\n",
       "    <tr>\n",
       "      <th>0</th>\n",
       "      <td>0</td>\n",
       "      <td>Elvis Costello-Alison</td>\n",
       "      <td>Linkin Park-My December</td>\n",
       "      <td>The Head And The Heart-Winter Song</td>\n",
       "      <td>Mumford &amp; Sons-Winter Winds</td>\n",
       "      <td>Ben Howard-End Of The Affair</td>\n",
       "      <td>Boards of Canada-Reach For The Dead</td>\n",
       "    </tr>\n",
       "    <tr>\n",
       "      <th>1</th>\n",
       "      <td>1</td>\n",
       "      <td>Crowded House-Don't Dream It's Over</td>\n",
       "      <td>Linkin Park-My December</td>\n",
       "      <td>Mumford &amp; Sons-Winter Winds</td>\n",
       "      <td>The Head And The Heart-Winter Song</td>\n",
       "      <td>Ben Howard-End Of The Affair</td>\n",
       "      <td>Explosions In The Sky-Be Comfortable, Creature</td>\n",
       "    </tr>\n",
       "    <tr>\n",
       "      <th>2</th>\n",
       "      <td>2</td>\n",
       "      <td>Crowded House-Fall At Your Feet</td>\n",
       "      <td>Muse-Psycho</td>\n",
       "      <td>Muse-Madness</td>\n",
       "      <td>Lorde-Team</td>\n",
       "      <td>Lorde-Tennis Court</td>\n",
       "      <td>Lorde-Royals</td>\n",
       "    </tr>\n",
       "    <tr>\n",
       "      <th>3</th>\n",
       "      <td>3</td>\n",
       "      <td>Joshua Radin-I'd Rather Be With You [Radio Edit]</td>\n",
       "      <td>Mumford &amp; Sons-Winter Winds</td>\n",
       "      <td>Ben Howard-End Of The Affair</td>\n",
       "      <td>Explosions In The Sky-Be Comfortable, Creature</td>\n",
       "      <td>London Grammar-Flickers</td>\n",
       "      <td>London Grammar-Stay Awake</td>\n",
       "    </tr>\n",
       "    <tr>\n",
       "      <th>4</th>\n",
       "      <td>4</td>\n",
       "      <td>Paul McCartney-Live And Let Die</td>\n",
       "      <td>Linkin Park-My December</td>\n",
       "      <td>Mumford &amp; Sons-Winter Winds</td>\n",
       "      <td>The Head And The Heart-Winter Song</td>\n",
       "      <td>Ben Howard-End Of The Affair</td>\n",
       "      <td>Explosions In The Sky-Be Comfortable, Creature</td>\n",
       "    </tr>\n",
       "    <tr>\n",
       "      <th>...</th>\n",
       "      <td>...</td>\n",
       "      <td>...</td>\n",
       "      <td>...</td>\n",
       "      <td>...</td>\n",
       "      <td>...</td>\n",
       "      <td>...</td>\n",
       "      <td>...</td>\n",
       "    </tr>\n",
       "    <tr>\n",
       "      <th>9995</th>\n",
       "      <td>9995</td>\n",
       "      <td>Joshua Radin-Closer</td>\n",
       "      <td>Daft Punk-Get Lucky</td>\n",
       "      <td>Daft Punk-Instant Crush</td>\n",
       "      <td>Daft Punk-Lose Yourself to Dance</td>\n",
       "      <td>Daft Punk-Doin' it Right</td>\n",
       "      <td>Daft Punk-Get Lucky - Daft Punk Remix</td>\n",
       "    </tr>\n",
       "    <tr>\n",
       "      <th>9996</th>\n",
       "      <td>9996</td>\n",
       "      <td>Van Morrison-Madame George</td>\n",
       "      <td>Explosions In The Sky-Be Comfortable, Creature</td>\n",
       "      <td>Mumford &amp; Sons-Winter Winds</td>\n",
       "      <td>Ben Howard-End Of The Affair</td>\n",
       "      <td>Rodriguez-Can't Get Away</td>\n",
       "      <td>Supersubmarina-LN Granada</td>\n",
       "    </tr>\n",
       "    <tr>\n",
       "      <th>9997</th>\n",
       "      <td>9997</td>\n",
       "      <td>Slipknot-Left Behind</td>\n",
       "      <td>Florence + The Machine-Shake It Out - Acoustic</td>\n",
       "      <td>Florence + The Machine-You've Got The Dirtee L...</td>\n",
       "      <td>Explosions In The Sky-Be Comfortable, Creature</td>\n",
       "      <td>Florence + The Machine-All This And Heaven Too</td>\n",
       "      <td>Florence + The Machine-Breath Of Life</td>\n",
       "    </tr>\n",
       "    <tr>\n",
       "      <th>9998</th>\n",
       "      <td>9998</td>\n",
       "      <td>Zedd-The Legend Of Zelda - Original Mix</td>\n",
       "      <td>Mumford &amp; Sons-Winter Winds</td>\n",
       "      <td>Ben Howard-End Of The Affair</td>\n",
       "      <td>Linkin Park-My December</td>\n",
       "      <td>Explosions In The Sky-Be Comfortable, Creature</td>\n",
       "      <td>The Head And The Heart-Winter Song</td>\n",
       "    </tr>\n",
       "    <tr>\n",
       "      <th>9999</th>\n",
       "      <td>9999</td>\n",
       "      <td>Prince-If I Was Your Girlfriend</td>\n",
       "      <td>Mumford &amp; Sons-Winter Winds</td>\n",
       "      <td>Explosions In The Sky-Be Comfortable, Creature</td>\n",
       "      <td>Ben Howard-End Of The Affair</td>\n",
       "      <td>Linkin Park-My December</td>\n",
       "      <td>The Head And The Heart-Winter Song</td>\n",
       "    </tr>\n",
       "  </tbody>\n",
       "</table>\n",
       "<p>10000 rows × 7 columns</p>\n",
       "</div>"
      ],
      "text/plain": [
       "      track_id                                             track  \\\n",
       "0            0                             Elvis Costello-Alison   \n",
       "1            1               Crowded House-Don't Dream It's Over   \n",
       "2            2                   Crowded House-Fall At Your Feet   \n",
       "3            3  Joshua Radin-I'd Rather Be With You [Radio Edit]   \n",
       "4            4                   Paul McCartney-Live And Let Die   \n",
       "...        ...                                               ...   \n",
       "9995      9995                               Joshua Radin-Closer   \n",
       "9996      9996                        Van Morrison-Madame George   \n",
       "9997      9997                              Slipknot-Left Behind   \n",
       "9998      9998           Zedd-The Legend Of Zelda - Original Mix   \n",
       "9999      9999                   Prince-If I Was Your Girlfriend   \n",
       "\n",
       "                                               rec_1  \\\n",
       "0                            Linkin Park-My December   \n",
       "1                            Linkin Park-My December   \n",
       "2                                        Muse-Psycho   \n",
       "3                        Mumford & Sons-Winter Winds   \n",
       "4                            Linkin Park-My December   \n",
       "...                                              ...   \n",
       "9995                             Daft Punk-Get Lucky   \n",
       "9996  Explosions In The Sky-Be Comfortable, Creature   \n",
       "9997  Florence + The Machine-Shake It Out - Acoustic   \n",
       "9998                     Mumford & Sons-Winter Winds   \n",
       "9999                     Mumford & Sons-Winter Winds   \n",
       "\n",
       "                                                  rec_2  \\\n",
       "0                    The Head And The Heart-Winter Song   \n",
       "1                           Mumford & Sons-Winter Winds   \n",
       "2                                          Muse-Madness   \n",
       "3                          Ben Howard-End Of The Affair   \n",
       "4                           Mumford & Sons-Winter Winds   \n",
       "...                                                 ...   \n",
       "9995                            Daft Punk-Instant Crush   \n",
       "9996                        Mumford & Sons-Winter Winds   \n",
       "9997  Florence + The Machine-You've Got The Dirtee L...   \n",
       "9998                       Ben Howard-End Of The Affair   \n",
       "9999     Explosions In The Sky-Be Comfortable, Creature   \n",
       "\n",
       "                                               rec_3  \\\n",
       "0                        Mumford & Sons-Winter Winds   \n",
       "1                 The Head And The Heart-Winter Song   \n",
       "2                                         Lorde-Team   \n",
       "3     Explosions In The Sky-Be Comfortable, Creature   \n",
       "4                 The Head And The Heart-Winter Song   \n",
       "...                                              ...   \n",
       "9995                Daft Punk-Lose Yourself to Dance   \n",
       "9996                    Ben Howard-End Of The Affair   \n",
       "9997  Explosions In The Sky-Be Comfortable, Creature   \n",
       "9998                         Linkin Park-My December   \n",
       "9999                    Ben Howard-End Of The Affair   \n",
       "\n",
       "                                               rec_4  \\\n",
       "0                       Ben Howard-End Of The Affair   \n",
       "1                       Ben Howard-End Of The Affair   \n",
       "2                                 Lorde-Tennis Court   \n",
       "3                            London Grammar-Flickers   \n",
       "4                       Ben Howard-End Of The Affair   \n",
       "...                                              ...   \n",
       "9995                        Daft Punk-Doin' it Right   \n",
       "9996                        Rodriguez-Can't Get Away   \n",
       "9997  Florence + The Machine-All This And Heaven Too   \n",
       "9998  Explosions In The Sky-Be Comfortable, Creature   \n",
       "9999                         Linkin Park-My December   \n",
       "\n",
       "                                               rec_5  \n",
       "0                Boards of Canada-Reach For The Dead  \n",
       "1     Explosions In The Sky-Be Comfortable, Creature  \n",
       "2                                       Lorde-Royals  \n",
       "3                          London Grammar-Stay Awake  \n",
       "4     Explosions In The Sky-Be Comfortable, Creature  \n",
       "...                                              ...  \n",
       "9995           Daft Punk-Get Lucky - Daft Punk Remix  \n",
       "9996                       Supersubmarina-LN Granada  \n",
       "9997           Florence + The Machine-Breath Of Life  \n",
       "9998              The Head And The Heart-Winter Song  \n",
       "9999              The Head And The Heart-Winter Song  \n",
       "\n",
       "[10000 rows x 7 columns]"
      ]
     },
     "execution_count": 30,
     "metadata": {},
     "output_type": "execute_result"
    }
   ],
   "source": [
    "pd_df"
   ]
  },
  {
   "cell_type": "code",
   "execution_count": null,
   "metadata": {},
   "outputs": [],
   "source": []
  },
  {
   "cell_type": "code",
   "execution_count": null,
   "metadata": {},
   "outputs": [],
   "source": []
  }
 ],
 "metadata": {
  "kernelspec": {
   "display_name": "Python 3",
   "language": "python",
   "name": "python3"
  },
  "language_info": {
   "codemirror_mode": {
    "name": "ipython",
    "version": 3
   },
   "file_extension": ".py",
   "mimetype": "text/x-python",
   "name": "python",
   "nbconvert_exporter": "python",
   "pygments_lexer": "ipython3",
   "version": "3.8.5"
  }
 },
 "nbformat": 4,
 "nbformat_minor": 4
}
